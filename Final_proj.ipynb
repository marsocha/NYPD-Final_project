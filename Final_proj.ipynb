{
 "cells": [
  {
   "cell_type": "code",
   "execution_count": 1,
   "metadata": {},
   "outputs": [
    {
     "name": "stdout",
     "output_type": "stream",
     "text": [
      "['title.ratings.tsv', 'title.principals.tsv', 'title.akas.tsv', 'name.basics.tsv', 'title.basics-2.tsv', 'title.episode.tsv', 'title.crew.tsv']\n"
     ]
    },
    {
     "name": "stderr",
     "output_type": "stream",
     "text": [
      "/var/folders/0r/hq8l80pd28v6wlvr518j1g700000gn/T/ipykernel_5426/1521382846.py:12: DtypeWarning: Columns (4) have mixed types. Specify dtype option on import or set low_memory=False.\n",
      "  tmp = pd.read_csv(pelna_nazwa, sep='\\t')\n"
     ]
    }
   ],
   "source": [
    "import pandas as pd\n",
    "import numpy as np\n",
    "import os \n",
    "\n",
    "def pobierz_nazwy_plikow(folder):\n",
    "    pliki = os.listdir(folder)\n",
    "    pliki_tsv = [plik for plik in pliki]\n",
    "    return pliki_tsv\n",
    "\n",
    "def wczytaj_dane(folder, nazwa_pliku, pliki):\n",
    "    pelna_nazwa = folder + '/' + nazwa_pliku\n",
    "    tmp = pd.read_csv(pelna_nazwa, sep='\\t')\n",
    "    nazwa_bez_tsv = nazwa_pliku[:-4]  # Usunięcie '.tsv'\n",
    "    A, B = nazwa_bez_tsv.split('.')\n",
    "    nazwa = f\"{A}_{B}\"\n",
    "    nazwa = tmp\n",
    "    pliki.append(nazwa)\n",
    "\n",
    "folder = 'data'\n",
    "nazwy_plikow = pobierz_nazwy_plikow(folder)\n",
    "print(nazwy_plikow)\n",
    "pliki = []\n",
    "for nazwa_pliku in nazwy_plikow:\n",
    "    wczytaj_dane(folder, nazwa_pliku, pliki)"
   ]
  }
 ],
 "metadata": {
  "kernelspec": {
   "display_name": "NYPD_Project",
   "language": "python",
   "name": "python3"
  },
  "language_info": {
   "codemirror_mode": {
    "name": "ipython",
    "version": 3
   },
   "file_extension": ".py",
   "mimetype": "text/x-python",
   "name": "python",
   "nbconvert_exporter": "python",
   "pygments_lexer": "ipython3",
   "version": "3.12.3"
  }
 },
 "nbformat": 4,
 "nbformat_minor": 2
}
